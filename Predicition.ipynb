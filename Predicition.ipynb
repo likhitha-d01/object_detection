{
  "nbformat": 4,
  "nbformat_minor": 0,
  "metadata": {
    "colab": {
      "name": "Predicition.ipynb",
      "provenance": [],
      "collapsed_sections": [],
      "authorship_tag": "ABX9TyNLPL6bR/WdzLi/Fnak2veQ",
      "include_colab_link": true
    },
    "kernelspec": {
      "name": "python3",
      "display_name": "Python 3"
    },
    "accelerator": "GPU"
  },
  "cells": [
    {
      "cell_type": "markdown",
      "metadata": {
        "id": "view-in-github",
        "colab_type": "text"
      },
      "source": [
        "<a href=\"https://colab.research.google.com/github/likhitha-d01/object_detection/blob/master/Predicition.ipynb\" target=\"_parent\"><img src=\"https://colab.research.google.com/assets/colab-badge.svg\" alt=\"Open In Colab\"/></a>"
      ]
    },
    {
      "cell_type": "code",
      "metadata": {
        "id": "55yn-7hC-S_L",
        "colab_type": "code",
        "outputId": "08f376e1-4eaf-43bb-9ed5-90553b7723bf",
        "colab": {
          "base_uri": "https://localhost:8080/",
          "height": 34
        }
      },
      "source": [
        "\"\"\"\n",
        "PART-2\n",
        "\n",
        "This is the file to train the model\n",
        "\"\"\""
      ],
      "execution_count": 1,
      "outputs": [
        {
          "output_type": "execute_result",
          "data": {
            "text/plain": [
              "'\\nPART-2\\n\\nThis is the file to train the model\\n'"
            ]
          },
          "metadata": {
            "tags": []
          },
          "execution_count": 1
        }
      ]
    },
    {
      "cell_type": "code",
      "metadata": {
        "id": "-f_ekuJ45ZTr",
        "colab_type": "code",
        "outputId": "357ab124-5aed-4969-8fe8-4a58484c61b4",
        "colab": {
          "base_uri": "https://localhost:8080/",
          "height": 34
        }
      },
      "source": [
        "from google.colab import drive\n",
        "drive.mount('/content/drive',force_remount=True)"
      ],
      "execution_count": 2,
      "outputs": [
        {
          "output_type": "stream",
          "text": [
            "Mounted at /content/drive\n"
          ],
          "name": "stdout"
        }
      ]
    },
    {
      "cell_type": "code",
      "metadata": {
        "id": "pb8ROvBS5n95",
        "colab_type": "code",
        "outputId": "f57f98d6-53c5-43f9-e14d-9338724d9fa7",
        "colab": {
          "base_uri": "https://localhost:8080/",
          "height": 85
        }
      },
      "source": [
        "%cd drive/My\\ Drive/void_detector\n",
        "! ls"
      ],
      "execution_count": 3,
      "outputs": [
        {
          "output_type": "stream",
          "text": [
            "/content/drive/My Drive/void_detector\n",
            "data_folders\tmodel\t\t  README.md\t  train.record\n",
            "deployment\tnets\t\t  test_results\t  val.record\n",
            "labelmap.pbtxt\tobject_detection  test_results_2\n"
          ],
          "name": "stdout"
        }
      ]
    },
    {
      "cell_type": "code",
      "metadata": {
        "id": "BlRfu9PYF6NX",
        "colab_type": "code",
        "colab": {
          "base_uri": "https://localhost:8080/",
          "height": 1000
        },
        "outputId": "85511607-3c7b-49f3-cec8-2ace949ea8d0"
      },
      "source": [
        "import tensorflow as tf\n",
        "from google.protobuf import text_format\n",
        "from object_detection import exporter\n",
        "from object_detection.protos import pipeline_pb2\n",
        "\n",
        "slim = tf.contrib.slim\n",
        "\n",
        "\n",
        "def main(_):\n",
        "  pipeline_config = pipeline_pb2.TrainEvalPipelineConfig()\n",
        "  with tf.gfile.GFile(pipeline_config_path, 'r') as f:\n",
        "    text_format.Merge(f.read(), pipeline_config)\n",
        "  text_format.Merge(config_override, pipeline_config)\n",
        " \n",
        "  input_shape = None\n",
        "  exporter.export_inference_graph(\n",
        "      input_type, pipeline_config, trained_checkpoint_prefix,\n",
        "      output_directory, input_shape=input_shape,\n",
        "      write_inference_graph=write_inference_graph)\n",
        "\n",
        "if __name__ == '__main__':\n",
        "  input_type= 'image_tensor'# 'Type of input node. Can be 'one of [`image_tensor`, `encoded_image_string_tensor`, `tf_example`]')\n",
        "  pipeline_config_path= 'model/training/faster_rcnn_inception_v2_coco.config'\n",
        "  trained_checkpoint_prefix='model/training/model.ckpt-2502' #      'Path to trained checkpoint, typically of the form ''path/to/model.ckpt')\n",
        "  output_directory = 'model/inference2'  #, 'Path to write outputs.')\n",
        "  write_inference_graph= False\n",
        "  config_override = ''\n",
        "  tf.app.run()\n"
      ],
      "execution_count": 4,
      "outputs": [
        {
          "output_type": "display_data",
          "data": {
            "text/html": [
              "<p style=\"color: red;\">\n",
              "The default version of TensorFlow in Colab will soon switch to TensorFlow 2.x.<br>\n",
              "We recommend you <a href=\"https://www.tensorflow.org/guide/migrate\" target=\"_blank\">upgrade</a> now \n",
              "or ensure your notebook will continue to use TensorFlow 1.x via the <code>%tensorflow_version 1.x</code> magic:\n",
              "<a href=\"https://colab.research.google.com/notebooks/tensorflow_version.ipynb\" target=\"_blank\">more info</a>.</p>\n"
            ],
            "text/plain": [
              "<IPython.core.display.HTML object>"
            ]
          },
          "metadata": {
            "tags": []
          }
        },
        {
          "output_type": "stream",
          "text": [
            "WARNING:tensorflow:\n",
            "The TensorFlow contrib module will not be included in TensorFlow 2.0.\n",
            "For more information, please see:\n",
            "  * https://github.com/tensorflow/community/blob/master/rfcs/20180907-contrib-sunset.md\n",
            "  * https://github.com/tensorflow/addons\n",
            "  * https://github.com/tensorflow/io (for I/O related ops)\n",
            "If you depend on functionality not listed there, please file an issue.\n",
            "\n",
            "WARNING:tensorflow:From /content/drive/My Drive/void_detector/nets/inception_resnet_v2.py:374: The name tf.GraphKeys is deprecated. Please use tf.compat.v1.GraphKeys instead.\n",
            "\n",
            "WARNING:tensorflow:From /content/drive/My Drive/void_detector/nets/mobilenet/mobilenet.py:397: The name tf.nn.avg_pool is deprecated. Please use tf.nn.avg_pool2d instead.\n",
            "\n",
            "WARNING:tensorflow:From /content/drive/My Drive/void_detector/object_detection/exporter.py:402: The name tf.gfile.MakeDirs is deprecated. Please use tf.io.gfile.makedirs instead.\n",
            "\n"
          ],
          "name": "stdout"
        },
        {
          "output_type": "stream",
          "text": [
            "W0131 13:20:27.795916 140635212044160 module_wrapper.py:139] From /content/drive/My Drive/void_detector/object_detection/exporter.py:402: The name tf.gfile.MakeDirs is deprecated. Please use tf.io.gfile.makedirs instead.\n",
            "\n"
          ],
          "name": "stderr"
        },
        {
          "output_type": "stream",
          "text": [
            "WARNING:tensorflow:From /content/drive/My Drive/void_detector/object_detection/exporter.py:121: The name tf.placeholder is deprecated. Please use tf.compat.v1.placeholder instead.\n",
            "\n"
          ],
          "name": "stdout"
        },
        {
          "output_type": "stream",
          "text": [
            "W0131 13:20:27.798281 140635212044160 module_wrapper.py:139] From /content/drive/My Drive/void_detector/object_detection/exporter.py:121: The name tf.placeholder is deprecated. Please use tf.compat.v1.placeholder instead.\n",
            "\n"
          ],
          "name": "stderr"
        },
        {
          "output_type": "stream",
          "text": [
            "WARNING:tensorflow:From /content/drive/My Drive/void_detector/object_detection/core/preprocessor.py:2689: The name tf.image.resize_images is deprecated. Please use tf.image.resize instead.\n",
            "\n"
          ],
          "name": "stdout"
        },
        {
          "output_type": "stream",
          "text": [
            "W0131 13:20:27.845662 140635212044160 module_wrapper.py:139] From /content/drive/My Drive/void_detector/object_detection/core/preprocessor.py:2689: The name tf.image.resize_images is deprecated. Please use tf.image.resize instead.\n",
            "\n"
          ],
          "name": "stderr"
        },
        {
          "output_type": "stream",
          "text": [
            "WARNING:tensorflow:From /content/drive/My Drive/void_detector/object_detection/meta_architectures/faster_rcnn_meta_arch.py:168: The name tf.variable_scope is deprecated. Please use tf.compat.v1.variable_scope instead.\n",
            "\n"
          ],
          "name": "stdout"
        },
        {
          "output_type": "stream",
          "text": [
            "W0131 13:20:27.898528 140635212044160 module_wrapper.py:139] From /content/drive/My Drive/void_detector/object_detection/meta_architectures/faster_rcnn_meta_arch.py:168: The name tf.variable_scope is deprecated. Please use tf.compat.v1.variable_scope instead.\n",
            "\n"
          ],
          "name": "stderr"
        },
        {
          "output_type": "stream",
          "text": [
            "WARNING:tensorflow:From /usr/local/lib/python3.6/dist-packages/tensorflow_core/contrib/layers/python/layers/layers.py:2784: Layer.apply (from tensorflow.python.keras.engine.base_layer) is deprecated and will be removed in a future version.\n",
            "Instructions for updating:\n",
            "Please use `layer.__call__` method instead.\n"
          ],
          "name": "stdout"
        },
        {
          "output_type": "stream",
          "text": [
            "W0131 13:20:27.914526 140635212044160 deprecation.py:323] From /usr/local/lib/python3.6/dist-packages/tensorflow_core/contrib/layers/python/layers/layers.py:2784: Layer.apply (from tensorflow.python.keras.engine.base_layer) is deprecated and will be removed in a future version.\n",
            "Instructions for updating:\n",
            "Please use `layer.__call__` method instead.\n"
          ],
          "name": "stderr"
        },
        {
          "output_type": "stream",
          "text": [
            "WARNING:tensorflow:From /content/drive/My Drive/void_detector/object_detection/core/anchor_generator.py:171: The name tf.assert_equal is deprecated. Please use tf.compat.v1.assert_equal instead.\n",
            "\n"
          ],
          "name": "stdout"
        },
        {
          "output_type": "stream",
          "text": [
            "W0131 13:20:29.378729 140635212044160 module_wrapper.py:139] From /content/drive/My Drive/void_detector/object_detection/core/anchor_generator.py:171: The name tf.assert_equal is deprecated. Please use tf.compat.v1.assert_equal instead.\n",
            "\n"
          ],
          "name": "stderr"
        },
        {
          "output_type": "stream",
          "text": [
            "INFO:tensorflow:Scale of 0 disables regularizer.\n"
          ],
          "name": "stdout"
        },
        {
          "output_type": "stream",
          "text": [
            "I0131 13:20:29.390887 140635212044160 regularizers.py:98] Scale of 0 disables regularizer.\n"
          ],
          "name": "stderr"
        },
        {
          "output_type": "stream",
          "text": [
            "WARNING:tensorflow:From /content/drive/My Drive/void_detector/object_detection/meta_architectures/faster_rcnn_meta_arch.py:558: The name tf.get_variable_scope is deprecated. Please use tf.compat.v1.get_variable_scope instead.\n",
            "\n"
          ],
          "name": "stdout"
        },
        {
          "output_type": "stream",
          "text": [
            "W0131 13:20:29.396225 140635212044160 module_wrapper.py:139] From /content/drive/My Drive/void_detector/object_detection/meta_architectures/faster_rcnn_meta_arch.py:558: The name tf.get_variable_scope is deprecated. Please use tf.compat.v1.get_variable_scope instead.\n",
            "\n"
          ],
          "name": "stderr"
        },
        {
          "output_type": "stream",
          "text": [
            "INFO:tensorflow:Scale of 0 disables regularizer.\n"
          ],
          "name": "stdout"
        },
        {
          "output_type": "stream",
          "text": [
            "I0131 13:20:29.419645 140635212044160 regularizers.py:98] Scale of 0 disables regularizer.\n"
          ],
          "name": "stderr"
        },
        {
          "output_type": "stream",
          "text": [
            "WARNING:tensorflow:From /content/drive/My Drive/void_detector/object_detection/predictors/convolutional_box_predictor.py:150: The name tf.logging.info is deprecated. Please use tf.compat.v1.logging.info instead.\n",
            "\n"
          ],
          "name": "stdout"
        },
        {
          "output_type": "stream",
          "text": [
            "W0131 13:20:29.421386 140635212044160 module_wrapper.py:139] From /content/drive/My Drive/void_detector/object_detection/predictors/convolutional_box_predictor.py:150: The name tf.logging.info is deprecated. Please use tf.compat.v1.logging.info instead.\n",
            "\n"
          ],
          "name": "stderr"
        },
        {
          "output_type": "stream",
          "text": [
            "INFO:tensorflow:depth of additional conv before box predictor: 0\n"
          ],
          "name": "stdout"
        },
        {
          "output_type": "stream",
          "text": [
            "I0131 13:20:29.423099 140635212044160 convolutional_box_predictor.py:151] depth of additional conv before box predictor: 0\n"
          ],
          "name": "stderr"
        },
        {
          "output_type": "stream",
          "text": [
            "WARNING:tensorflow:From /content/drive/My Drive/void_detector/object_detection/core/box_list_ops.py:141: where (from tensorflow.python.ops.array_ops) is deprecated and will be removed in a future version.\n",
            "Instructions for updating:\n",
            "Use tf.where in 2.0, which has the same broadcast rule as np.where\n"
          ],
          "name": "stdout"
        },
        {
          "output_type": "stream",
          "text": [
            "W0131 13:20:29.484282 140635212044160 deprecation.py:323] From /content/drive/My Drive/void_detector/object_detection/core/box_list_ops.py:141: where (from tensorflow.python.ops.array_ops) is deprecated and will be removed in a future version.\n",
            "Instructions for updating:\n",
            "Use tf.where in 2.0, which has the same broadcast rule as np.where\n"
          ],
          "name": "stderr"
        },
        {
          "output_type": "stream",
          "text": [
            "WARNING:tensorflow:From /content/drive/My Drive/void_detector/object_detection/utils/spatial_transform_ops.py:419: calling crop_and_resize_v1 (from tensorflow.python.ops.image_ops_impl) with box_ind is deprecated and will be removed in a future version.\n",
            "Instructions for updating:\n",
            "box_ind is deprecated, use box_indices instead\n"
          ],
          "name": "stdout"
        },
        {
          "output_type": "stream",
          "text": [
            "W0131 13:20:30.049282 140635212044160 deprecation.py:506] From /content/drive/My Drive/void_detector/object_detection/utils/spatial_transform_ops.py:419: calling crop_and_resize_v1 (from tensorflow.python.ops.image_ops_impl) with box_ind is deprecated and will be removed in a future version.\n",
            "Instructions for updating:\n",
            "box_ind is deprecated, use box_indices instead\n"
          ],
          "name": "stderr"
        },
        {
          "output_type": "stream",
          "text": [
            "WARNING:tensorflow:From /content/drive/My Drive/void_detector/object_detection/meta_architectures/faster_rcnn_meta_arch.py:191: The name tf.AUTO_REUSE is deprecated. Please use tf.compat.v1.AUTO_REUSE instead.\n",
            "\n"
          ],
          "name": "stdout"
        },
        {
          "output_type": "stream",
          "text": [
            "W0131 13:20:30.077121 140635212044160 module_wrapper.py:139] From /content/drive/My Drive/void_detector/object_detection/meta_architectures/faster_rcnn_meta_arch.py:191: The name tf.AUTO_REUSE is deprecated. Please use tf.compat.v1.AUTO_REUSE instead.\n",
            "\n"
          ],
          "name": "stderr"
        },
        {
          "output_type": "stream",
          "text": [
            "WARNING:tensorflow:From /usr/local/lib/python3.6/dist-packages/tensorflow_core/contrib/layers/python/layers/layers.py:1634: flatten (from tensorflow.python.layers.core) is deprecated and will be removed in a future version.\n",
            "Instructions for updating:\n",
            "Use keras.layers.flatten instead.\n"
          ],
          "name": "stdout"
        },
        {
          "output_type": "stream",
          "text": [
            "W0131 13:20:30.563884 140635212044160 deprecation.py:323] From /usr/local/lib/python3.6/dist-packages/tensorflow_core/contrib/layers/python/layers/layers.py:1634: flatten (from tensorflow.python.layers.core) is deprecated and will be removed in a future version.\n",
            "Instructions for updating:\n",
            "Use keras.layers.flatten instead.\n"
          ],
          "name": "stderr"
        },
        {
          "output_type": "stream",
          "text": [
            "INFO:tensorflow:Scale of 0 disables regularizer.\n"
          ],
          "name": "stdout"
        },
        {
          "output_type": "stream",
          "text": [
            "I0131 13:20:30.573238 140635212044160 regularizers.py:98] Scale of 0 disables regularizer.\n"
          ],
          "name": "stderr"
        },
        {
          "output_type": "stream",
          "text": [
            "INFO:tensorflow:Scale of 0 disables regularizer.\n"
          ],
          "name": "stdout"
        },
        {
          "output_type": "stream",
          "text": [
            "I0131 13:20:30.596215 140635212044160 regularizers.py:98] Scale of 0 disables regularizer.\n"
          ],
          "name": "stderr"
        },
        {
          "output_type": "stream",
          "text": [
            "WARNING:tensorflow:From /usr/local/lib/python3.6/dist-packages/tensorflow_core/python/util/dispatch.py:180: batch_gather (from tensorflow.python.ops.array_ops) is deprecated and will be removed after 2017-10-25.\n",
            "Instructions for updating:\n",
            "`tf.batch_gather` is deprecated, please use `tf.gather` with `batch_dims=-1` instead.\n"
          ],
          "name": "stdout"
        },
        {
          "output_type": "stream",
          "text": [
            "W0131 13:20:31.237401 140635212044160 deprecation.py:323] From /usr/local/lib/python3.6/dist-packages/tensorflow_core/python/util/dispatch.py:180: batch_gather (from tensorflow.python.ops.array_ops) is deprecated and will be removed after 2017-10-25.\n",
            "Instructions for updating:\n",
            "`tf.batch_gather` is deprecated, please use `tf.gather` with `batch_dims=-1` instead.\n"
          ],
          "name": "stderr"
        },
        {
          "output_type": "stream",
          "text": [
            "WARNING:tensorflow:From /content/drive/My Drive/void_detector/object_detection/exporter.py:278: The name tf.add_to_collection is deprecated. Please use tf.compat.v1.add_to_collection instead.\n",
            "\n"
          ],
          "name": "stdout"
        },
        {
          "output_type": "stream",
          "text": [
            "W0131 13:20:31.571267 140635212044160 module_wrapper.py:139] From /content/drive/My Drive/void_detector/object_detection/exporter.py:278: The name tf.add_to_collection is deprecated. Please use tf.compat.v1.add_to_collection instead.\n",
            "\n"
          ],
          "name": "stderr"
        },
        {
          "output_type": "stream",
          "text": [
            "WARNING:tensorflow:From /content/drive/My Drive/void_detector/object_detection/exporter.py:383: get_or_create_global_step (from tensorflow.contrib.framework.python.ops.variables) is deprecated and will be removed in a future version.\n",
            "Instructions for updating:\n",
            "Please switch to tf.train.get_or_create_global_step\n"
          ],
          "name": "stdout"
        },
        {
          "output_type": "stream",
          "text": [
            "W0131 13:20:31.575845 140635212044160 deprecation.py:323] From /content/drive/My Drive/void_detector/object_detection/exporter.py:383: get_or_create_global_step (from tensorflow.contrib.framework.python.ops.variables) is deprecated and will be removed in a future version.\n",
            "Instructions for updating:\n",
            "Please switch to tf.train.get_or_create_global_step\n"
          ],
          "name": "stderr"
        },
        {
          "output_type": "stream",
          "text": [
            "WARNING:tensorflow:From /content/drive/My Drive/void_detector/object_detection/exporter.py:415: The name tf.get_default_graph is deprecated. Please use tf.compat.v1.get_default_graph instead.\n",
            "\n"
          ],
          "name": "stdout"
        },
        {
          "output_type": "stream",
          "text": [
            "W0131 13:20:31.585109 140635212044160 module_wrapper.py:139] From /content/drive/My Drive/void_detector/object_detection/exporter.py:415: The name tf.get_default_graph is deprecated. Please use tf.compat.v1.get_default_graph instead.\n",
            "\n"
          ],
          "name": "stderr"
        },
        {
          "output_type": "stream",
          "text": [
            "WARNING:tensorflow:From /content/drive/My Drive/void_detector/object_detection/exporter.py:539: print_model_analysis (from tensorflow.contrib.tfprof.model_analyzer) is deprecated and will be removed after 2018-01-01.\n",
            "Instructions for updating:\n",
            "Use `tf.profiler.profile(graph, run_meta, op_log, cmd, options)`. Build `options` with `tf.profiler.ProfileOptionBuilder`. See README.md for details\n"
          ],
          "name": "stdout"
        },
        {
          "output_type": "stream",
          "text": [
            "W0131 13:20:31.586974 140635212044160 deprecation.py:323] From /content/drive/My Drive/void_detector/object_detection/exporter.py:539: print_model_analysis (from tensorflow.contrib.tfprof.model_analyzer) is deprecated and will be removed after 2018-01-01.\n",
            "Instructions for updating:\n",
            "Use `tf.profiler.profile(graph, run_meta, op_log, cmd, options)`. Build `options` with `tf.profiler.ProfileOptionBuilder`. See README.md for details\n"
          ],
          "name": "stderr"
        },
        {
          "output_type": "stream",
          "text": [
            "WARNING:tensorflow:From /usr/local/lib/python3.6/dist-packages/tensorflow_core/python/profiler/internal/flops_registry.py:142: tensor_shape_from_node_def_name (from tensorflow.python.framework.graph_util_impl) is deprecated and will be removed in a future version.\n",
            "Instructions for updating:\n",
            "Use `tf.compat.v1.graph_util.tensor_shape_from_node_def_name`\n"
          ],
          "name": "stdout"
        },
        {
          "output_type": "stream",
          "text": [
            "W0131 13:20:31.591715 140635212044160 deprecation.py:323] From /usr/local/lib/python3.6/dist-packages/tensorflow_core/python/profiler/internal/flops_registry.py:142: tensor_shape_from_node_def_name (from tensorflow.python.framework.graph_util_impl) is deprecated and will be removed in a future version.\n",
            "Instructions for updating:\n",
            "Use `tf.compat.v1.graph_util.tensor_shape_from_node_def_name`\n",
            "234 ops no flops stats due to incomplete shapes.\n",
            "234 ops no flops stats due to incomplete shapes.\n"
          ],
          "name": "stderr"
        },
        {
          "output_type": "stream",
          "text": [
            "WARNING:tensorflow:From /content/drive/My Drive/void_detector/object_detection/exporter.py:432: The name tf.train.Saver is deprecated. Please use tf.compat.v1.train.Saver instead.\n",
            "\n"
          ],
          "name": "stdout"
        },
        {
          "output_type": "stream",
          "text": [
            "W0131 13:20:33.004840 140635212044160 module_wrapper.py:139] From /content/drive/My Drive/void_detector/object_detection/exporter.py:432: The name tf.train.Saver is deprecated. Please use tf.compat.v1.train.Saver instead.\n",
            "\n"
          ],
          "name": "stderr"
        },
        {
          "output_type": "stream",
          "text": [
            "WARNING:tensorflow:From /content/drive/My Drive/void_detector/object_detection/exporter.py:342: The name tf.Session is deprecated. Please use tf.compat.v1.Session instead.\n",
            "\n"
          ],
          "name": "stdout"
        },
        {
          "output_type": "stream",
          "text": [
            "W0131 13:20:33.952556 140635212044160 module_wrapper.py:139] From /content/drive/My Drive/void_detector/object_detection/exporter.py:342: The name tf.Session is deprecated. Please use tf.compat.v1.Session instead.\n",
            "\n"
          ],
          "name": "stderr"
        },
        {
          "output_type": "stream",
          "text": [
            "INFO:tensorflow:Restoring parameters from model/training/model.ckpt-2502\n"
          ],
          "name": "stdout"
        },
        {
          "output_type": "stream",
          "text": [
            "I0131 13:20:34.143641 140635212044160 saver.py:1284] Restoring parameters from model/training/model.ckpt-2502\n"
          ],
          "name": "stderr"
        },
        {
          "output_type": "stream",
          "text": [
            "WARNING:tensorflow:From /usr/local/lib/python3.6/dist-packages/tensorflow_core/python/tools/freeze_graph.py:127: checkpoint_exists (from tensorflow.python.training.checkpoint_management) is deprecated and will be removed in a future version.\n",
            "Instructions for updating:\n",
            "Use standard file APIs to check for files with this prefix.\n"
          ],
          "name": "stdout"
        },
        {
          "output_type": "stream",
          "text": [
            "W0131 13:20:36.426047 140635212044160 deprecation.py:323] From /usr/local/lib/python3.6/dist-packages/tensorflow_core/python/tools/freeze_graph.py:127: checkpoint_exists (from tensorflow.python.training.checkpoint_management) is deprecated and will be removed in a future version.\n",
            "Instructions for updating:\n",
            "Use standard file APIs to check for files with this prefix.\n"
          ],
          "name": "stderr"
        },
        {
          "output_type": "stream",
          "text": [
            "INFO:tensorflow:Restoring parameters from model/training/model.ckpt-2502\n"
          ],
          "name": "stdout"
        },
        {
          "output_type": "stream",
          "text": [
            "I0131 13:20:37.107524 140635212044160 saver.py:1284] Restoring parameters from model/training/model.ckpt-2502\n"
          ],
          "name": "stderr"
        },
        {
          "output_type": "stream",
          "text": [
            "WARNING:tensorflow:From /usr/local/lib/python3.6/dist-packages/tensorflow_core/python/tools/freeze_graph.py:233: convert_variables_to_constants (from tensorflow.python.framework.graph_util_impl) is deprecated and will be removed in a future version.\n",
            "Instructions for updating:\n",
            "Use `tf.compat.v1.graph_util.convert_variables_to_constants`\n"
          ],
          "name": "stdout"
        },
        {
          "output_type": "stream",
          "text": [
            "W0131 13:20:37.947081 140635212044160 deprecation.py:323] From /usr/local/lib/python3.6/dist-packages/tensorflow_core/python/tools/freeze_graph.py:233: convert_variables_to_constants (from tensorflow.python.framework.graph_util_impl) is deprecated and will be removed in a future version.\n",
            "Instructions for updating:\n",
            "Use `tf.compat.v1.graph_util.convert_variables_to_constants`\n"
          ],
          "name": "stderr"
        },
        {
          "output_type": "stream",
          "text": [
            "WARNING:tensorflow:From /usr/local/lib/python3.6/dist-packages/tensorflow_core/python/framework/graph_util_impl.py:277: extract_sub_graph (from tensorflow.python.framework.graph_util_impl) is deprecated and will be removed in a future version.\n",
            "Instructions for updating:\n",
            "Use `tf.compat.v1.graph_util.extract_sub_graph`\n"
          ],
          "name": "stdout"
        },
        {
          "output_type": "stream",
          "text": [
            "W0131 13:20:37.950637 140635212044160 deprecation.py:323] From /usr/local/lib/python3.6/dist-packages/tensorflow_core/python/framework/graph_util_impl.py:277: extract_sub_graph (from tensorflow.python.framework.graph_util_impl) is deprecated and will be removed in a future version.\n",
            "Instructions for updating:\n",
            "Use `tf.compat.v1.graph_util.extract_sub_graph`\n"
          ],
          "name": "stderr"
        },
        {
          "output_type": "stream",
          "text": [
            "INFO:tensorflow:Froze 356 variables.\n"
          ],
          "name": "stdout"
        },
        {
          "output_type": "stream",
          "text": [
            "I0131 13:20:38.365875 140635212044160 graph_util_impl.py:334] Froze 356 variables.\n"
          ],
          "name": "stderr"
        },
        {
          "output_type": "stream",
          "text": [
            "INFO:tensorflow:Converted 356 variables to const ops.\n"
          ],
          "name": "stdout"
        },
        {
          "output_type": "stream",
          "text": [
            "I0131 13:20:38.487970 140635212044160 graph_util_impl.py:394] Converted 356 variables to const ops.\n"
          ],
          "name": "stderr"
        },
        {
          "output_type": "stream",
          "text": [
            "WARNING:tensorflow:From /content/drive/My Drive/void_detector/object_detection/exporter.py:306: The name tf.saved_model.builder.SavedModelBuilder is deprecated. Please use tf.compat.v1.saved_model.builder.SavedModelBuilder instead.\n",
            "\n"
          ],
          "name": "stdout"
        },
        {
          "output_type": "stream",
          "text": [
            "W0131 13:20:39.253263 140635212044160 module_wrapper.py:139] From /content/drive/My Drive/void_detector/object_detection/exporter.py:306: The name tf.saved_model.builder.SavedModelBuilder is deprecated. Please use tf.compat.v1.saved_model.builder.SavedModelBuilder instead.\n",
            "\n"
          ],
          "name": "stderr"
        },
        {
          "output_type": "stream",
          "text": [
            "WARNING:tensorflow:From /content/drive/My Drive/void_detector/object_detection/exporter.py:309: build_tensor_info (from tensorflow.python.saved_model.utils_impl) is deprecated and will be removed in a future version.\n",
            "Instructions for updating:\n",
            "This function will only be available through the v1 compatibility library as tf.compat.v1.saved_model.utils.build_tensor_info or tf.compat.v1.saved_model.build_tensor_info.\n"
          ],
          "name": "stdout"
        },
        {
          "output_type": "stream",
          "text": [
            "W0131 13:20:39.258956 140635212044160 deprecation.py:323] From /content/drive/My Drive/void_detector/object_detection/exporter.py:309: build_tensor_info (from tensorflow.python.saved_model.utils_impl) is deprecated and will be removed in a future version.\n",
            "Instructions for updating:\n",
            "This function will only be available through the v1 compatibility library as tf.compat.v1.saved_model.utils.build_tensor_info or tf.compat.v1.saved_model.build_tensor_info.\n"
          ],
          "name": "stderr"
        },
        {
          "output_type": "stream",
          "text": [
            "WARNING:tensorflow:From /content/drive/My Drive/void_detector/object_detection/exporter.py:315: The name tf.saved_model.signature_def_utils.build_signature_def is deprecated. Please use tf.compat.v1.saved_model.signature_def_utils.build_signature_def instead.\n",
            "\n"
          ],
          "name": "stdout"
        },
        {
          "output_type": "stream",
          "text": [
            "W0131 13:20:39.261091 140635212044160 module_wrapper.py:139] From /content/drive/My Drive/void_detector/object_detection/exporter.py:315: The name tf.saved_model.signature_def_utils.build_signature_def is deprecated. Please use tf.compat.v1.saved_model.signature_def_utils.build_signature_def instead.\n",
            "\n"
          ],
          "name": "stderr"
        },
        {
          "output_type": "stream",
          "text": [
            "WARNING:tensorflow:From /content/drive/My Drive/void_detector/object_detection/exporter.py:318: The name tf.saved_model.signature_constants.PREDICT_METHOD_NAME is deprecated. Please use tf.saved_model.PREDICT_METHOD_NAME instead.\n",
            "\n"
          ],
          "name": "stdout"
        },
        {
          "output_type": "stream",
          "text": [
            "W0131 13:20:39.263180 140635212044160 module_wrapper.py:139] From /content/drive/My Drive/void_detector/object_detection/exporter.py:318: The name tf.saved_model.signature_constants.PREDICT_METHOD_NAME is deprecated. Please use tf.saved_model.PREDICT_METHOD_NAME instead.\n",
            "\n"
          ],
          "name": "stderr"
        },
        {
          "output_type": "stream",
          "text": [
            "WARNING:tensorflow:From /content/drive/My Drive/void_detector/object_detection/exporter.py:323: The name tf.saved_model.tag_constants.SERVING is deprecated. Please use tf.saved_model.SERVING instead.\n",
            "\n"
          ],
          "name": "stdout"
        },
        {
          "output_type": "stream",
          "text": [
            "W0131 13:20:39.265679 140635212044160 module_wrapper.py:139] From /content/drive/My Drive/void_detector/object_detection/exporter.py:323: The name tf.saved_model.tag_constants.SERVING is deprecated. Please use tf.saved_model.SERVING instead.\n",
            "\n"
          ],
          "name": "stderr"
        },
        {
          "output_type": "stream",
          "text": [
            "WARNING:tensorflow:From /content/drive/My Drive/void_detector/object_detection/exporter.py:325: The name tf.saved_model.signature_constants.DEFAULT_SERVING_SIGNATURE_DEF_KEY is deprecated. Please use tf.saved_model.DEFAULT_SERVING_SIGNATURE_DEF_KEY instead.\n",
            "\n"
          ],
          "name": "stdout"
        },
        {
          "output_type": "stream",
          "text": [
            "W0131 13:20:39.267616 140635212044160 module_wrapper.py:139] From /content/drive/My Drive/void_detector/object_detection/exporter.py:325: The name tf.saved_model.signature_constants.DEFAULT_SERVING_SIGNATURE_DEF_KEY is deprecated. Please use tf.saved_model.DEFAULT_SERVING_SIGNATURE_DEF_KEY instead.\n",
            "\n"
          ],
          "name": "stderr"
        },
        {
          "output_type": "stream",
          "text": [
            "INFO:tensorflow:No assets to save.\n"
          ],
          "name": "stdout"
        },
        {
          "output_type": "stream",
          "text": [
            "I0131 13:20:39.269822 140635212044160 builder_impl.py:640] No assets to save.\n"
          ],
          "name": "stderr"
        },
        {
          "output_type": "stream",
          "text": [
            "INFO:tensorflow:No assets to write.\n"
          ],
          "name": "stdout"
        },
        {
          "output_type": "stream",
          "text": [
            "I0131 13:20:39.271761 140635212044160 builder_impl.py:460] No assets to write.\n"
          ],
          "name": "stderr"
        },
        {
          "output_type": "stream",
          "text": [
            "INFO:tensorflow:SavedModel written to: model/inference2/saved_model/saved_model.pb\n"
          ],
          "name": "stdout"
        },
        {
          "output_type": "stream",
          "text": [
            "I0131 13:20:39.742287 140635212044160 builder_impl.py:425] SavedModel written to: model/inference2/saved_model/saved_model.pb\n"
          ],
          "name": "stderr"
        },
        {
          "output_type": "stream",
          "text": [
            "WARNING:tensorflow:From /content/drive/My Drive/void_detector/object_detection/utils/config_util.py:188: The name tf.gfile.Open is deprecated. Please use tf.io.gfile.GFile instead.\n",
            "\n"
          ],
          "name": "stdout"
        },
        {
          "output_type": "stream",
          "text": [
            "W0131 13:20:39.805299 140635212044160 module_wrapper.py:139] From /content/drive/My Drive/void_detector/object_detection/utils/config_util.py:188: The name tf.gfile.Open is deprecated. Please use tf.io.gfile.GFile instead.\n",
            "\n"
          ],
          "name": "stderr"
        },
        {
          "output_type": "stream",
          "text": [
            "INFO:tensorflow:Writing pipeline config file to model/inference2/pipeline.config\n"
          ],
          "name": "stdout"
        },
        {
          "output_type": "stream",
          "text": [
            "I0131 13:20:39.813020 140635212044160 config_util.py:190] Writing pipeline config file to model/inference2/pipeline.config\n"
          ],
          "name": "stderr"
        },
        {
          "output_type": "error",
          "ename": "SystemExit",
          "evalue": "ignored",
          "traceback": [
            "An exception has occurred, use %tb to see the full traceback.\n",
            "\u001b[0;31mSystemExit\u001b[0m\n"
          ]
        },
        {
          "output_type": "stream",
          "text": [
            "/usr/local/lib/python3.6/dist-packages/IPython/core/interactiveshell.py:2890: UserWarning: To exit: use 'exit', 'quit', or Ctrl-D.\n",
            "  warn(\"To exit: use 'exit', 'quit', or Ctrl-D.\", stacklevel=1)\n"
          ],
          "name": "stderr"
        }
      ]
    },
    {
      "cell_type": "code",
      "metadata": {
        "id": "1bVF12EIp7Ax",
        "colab_type": "code",
        "outputId": "04643a83-3dfa-44e8-95cd-eddc83dd7876",
        "colab": {
          "base_uri": "https://localhost:8080/",
          "height": 1000
        }
      },
      "source": [
        "# Write Python3 code here \n",
        "import os \n",
        "import cv2 \n",
        "import numpy as np \n",
        "import tensorflow as tf \n",
        "import sys \n",
        "import shutil\n",
        "# This is needed since the notebook is stored in the object_detection folder. \n",
        "sys.path.append(\"..\") \n",
        "  \n",
        "# Import utilites \n",
        "from object_detection.utils import label_map_util \n",
        "from object_detection.utils import visualization_utils as vis_util \n",
        "  \n",
        "# Name of the directory containing the object detection module we're using \n",
        "MODEL_NAME = 'model/saved_inference' # The path to the directory where frozen_inference_graph is stored. \n",
        "\n",
        "  \n",
        "# Grab path to current working directory \n",
        "CWD_PATH = os.getcwd() \n",
        "  \n",
        "# Path to frozen detection graph .pb file, which contains the model that is used \n",
        "# for object detection. \n",
        "PATH_TO_CKPT = os.path.join(CWD_PATH, MODEL_NAME, 'frozen_inference_graph.pb') \n",
        "  \n",
        "# Path to label map file \n",
        "PATH_TO_LABELS = os.path.join(CWD_PATH, 'labelmap.pbtxt') \n",
        "  \n",
        "# Number of classes the object detector can identify \n",
        "NUM_CLASSES = 2\n",
        "  \n",
        "# Load the label map. \n",
        "# Label maps map indices to category names, so that when our convolution \n",
        "# network predicts `5`, we know that this corresponds to `king`. \n",
        "# Here we use internal utility functions, but anything that returns a \n",
        "# dictionary mapping integers to appropriate string labels would be fine \n",
        "\n",
        "\n",
        "label_map = label_map_util.load_labelmap(PATH_TO_LABELS) \n",
        "categories = label_map_util.convert_label_map_to_categories( \n",
        "        label_map, max_num_classes = NUM_CLASSES, use_display_name = True) \n",
        "category_index = label_map_util.create_category_index(categories) \n",
        "  \n",
        "# Load the Tensorflow model into memory. \n",
        "detection_graph = tf.Graph() \n",
        "with detection_graph.as_default(): \n",
        "    od_graph_def = tf.GraphDef() \n",
        "    with tf.gfile.GFile(PATH_TO_CKPT, 'rb') as fid: \n",
        "        serialized_graph = fid.read() \n",
        "        od_graph_def.ParseFromString(serialized_graph) \n",
        "        tf.import_graph_def(od_graph_def, name ='') \n",
        "  \n",
        "    sess = tf.Session(graph = detection_graph) \n",
        "  \n",
        "# Define input and output tensors (i.e. data) for the object detection classifier \n",
        "  \n",
        "# Input tensor is the image \n",
        "image_tensor = detection_graph.get_tensor_by_name('image_tensor:0') \n",
        "  \n",
        "# Output tensors are the detection boxes, scores, and classes \n",
        "# Each box represents a part of the image where a particular object was detected \n",
        "detection_boxes = detection_graph.get_tensor_by_name('detection_boxes:0') \n",
        "\n",
        "# Each score represents level of confidence for each of the objects. \n",
        "# The score is shown on the result image, together with the class label. \n",
        "detection_scores = detection_graph.get_tensor_by_name('detection_scores:0') \n",
        "detection_classes = detection_graph.get_tensor_by_name('detection_classes:0') \n",
        "  \n",
        "# Number of objects detected \n",
        "num_detections = detection_graph.get_tensor_by_name('num_detections:0') \n",
        "  \n",
        "# Load image using OpenCV and \n",
        "# expand image dimensions to have shape: [1, None, None, 3] \n",
        "# i.e. a single-column array, where each item in the column has the pixel RGB value \n",
        "\n",
        "if os.path.exists('/content/drive/My Drive/void_detector/test_results_final')!=True:\n",
        "\t\tos.mkdir('/content/drive/My Drive/void_detector/test_results_final')\n",
        "\n",
        "\n",
        "for j,i in enumerate(os.listdir(os.path.join(CWD_PATH,'data_folders','bw_test_imgs'))):\n",
        "\t# Path to image \n",
        "\tIMAGE_NAME = i \n",
        "\tprint(j)\n",
        "\tPATH_TO_IMAGE = os.path.join(CWD_PATH,'data_folders','bw_test_imgs', IMAGE_NAME) \n",
        "\tprint(PATH_TO_IMAGE)\n",
        "\timage = cv2.imread(PATH_TO_IMAGE) \n",
        "\timage_expanded = np.expand_dims(image, axis = 0) \n",
        "\t  \n",
        "\t# Perform the actual detection by running the model with the image as input \n",
        "\t(boxes, scores, classes, num) = sess.run( \n",
        "\t    [detection_boxes, detection_scores, detection_classes, num_detections], \n",
        "\t    feed_dict ={image_tensor: image_expanded}) \n",
        "\t \n",
        "\t# Draw the results of the detection (aka 'visualize the results') \n",
        "\tvis_util.visualize_boxes_and_labels_on_image_array( \n",
        "\t    image, \n",
        "\t    np.squeeze(boxes), \n",
        "\t    np.squeeze(classes).astype(np.int32), \n",
        "\t    np.squeeze(scores), \n",
        "\t    category_index, \n",
        "\t    use_normalized_coordinates = True, \n",
        "\t    line_thickness = 3, \n",
        "\t    min_score_thresh = 0.6)\n",
        "\n",
        "\tcv2.imwrite(os.path.join(CWD_PATH,'test_results_final',IMAGE_NAME),image)\n"
      ],
      "execution_count": 6,
      "outputs": [
        {
          "output_type": "stream",
          "text": [
            "0\n",
            "/content/drive/My Drive/void_detector/data_folders/bw_test_imgs/IMG_7423.jpg\n",
            "1\n",
            "/content/drive/My Drive/void_detector/data_folders/bw_test_imgs/IMG_7437.jpg\n",
            "2\n",
            "/content/drive/My Drive/void_detector/data_folders/bw_test_imgs/IMG_7443.jpg\n",
            "3\n",
            "/content/drive/My Drive/void_detector/data_folders/bw_test_imgs/IMG_7486.jpg\n",
            "4\n",
            "/content/drive/My Drive/void_detector/data_folders/bw_test_imgs/IMG_7518.jpg\n",
            "5\n",
            "/content/drive/My Drive/void_detector/data_folders/bw_test_imgs/IMG_7526.jpg\n",
            "6\n",
            "/content/drive/My Drive/void_detector/data_folders/bw_test_imgs/IMG_7785.jpg\n",
            "7\n",
            "/content/drive/My Drive/void_detector/data_folders/bw_test_imgs/IMG_7786.jpg\n",
            "8\n",
            "/content/drive/My Drive/void_detector/data_folders/bw_test_imgs/IMG_7852.jpg\n",
            "9\n",
            "/content/drive/My Drive/void_detector/data_folders/bw_test_imgs/IMG_7863.jpg\n",
            "10\n",
            "/content/drive/My Drive/void_detector/data_folders/bw_test_imgs/IMG_7892.jpg\n",
            "11\n",
            "/content/drive/My Drive/void_detector/data_folders/bw_test_imgs/IMG_7899.jpg\n",
            "12\n",
            "/content/drive/My Drive/void_detector/data_folders/bw_test_imgs/IMG_7900.jpg\n",
            "13\n",
            "/content/drive/My Drive/void_detector/data_folders/bw_test_imgs/IMG_7919.jpg\n",
            "14\n",
            "/content/drive/My Drive/void_detector/data_folders/bw_test_imgs/IMG_7934.jpg\n",
            "15\n",
            "/content/drive/My Drive/void_detector/data_folders/bw_test_imgs/IMG_8029.jpg\n",
            "16\n",
            "/content/drive/My Drive/void_detector/data_folders/bw_test_imgs/IMG_8044.jpg\n",
            "17\n",
            "/content/drive/My Drive/void_detector/data_folders/bw_test_imgs/IMG_8117.jpg\n",
            "18\n",
            "/content/drive/My Drive/void_detector/data_folders/bw_test_imgs/IMG_8127.jpg\n",
            "19\n",
            "/content/drive/My Drive/void_detector/data_folders/bw_test_imgs/IMG_8134.jpg\n",
            "20\n",
            "/content/drive/My Drive/void_detector/data_folders/bw_test_imgs/IMG_8168.jpg\n",
            "21\n",
            "/content/drive/My Drive/void_detector/data_folders/bw_test_imgs/IMG_8181.jpg\n",
            "22\n",
            "/content/drive/My Drive/void_detector/data_folders/bw_test_imgs/IMG_8193.jpg\n",
            "23\n",
            "/content/drive/My Drive/void_detector/data_folders/bw_test_imgs/IMG_8241.jpg\n",
            "24\n",
            "/content/drive/My Drive/void_detector/data_folders/bw_test_imgs/IMG_8246.jpg\n",
            "25\n",
            "/content/drive/My Drive/void_detector/data_folders/bw_test_imgs/IMG_8270.jpg\n",
            "26\n",
            "/content/drive/My Drive/void_detector/data_folders/bw_test_imgs/IMG_8285.jpg\n",
            "27\n",
            "/content/drive/My Drive/void_detector/data_folders/bw_test_imgs/IMG_8288.jpg\n",
            "28\n",
            "/content/drive/My Drive/void_detector/data_folders/bw_test_imgs/IMG_8301.jpg\n",
            "29\n",
            "/content/drive/My Drive/void_detector/data_folders/bw_test_imgs/IMG_8328.jpg\n",
            "30\n",
            "/content/drive/My Drive/void_detector/data_folders/bw_test_imgs/IMG_8330.jpg\n",
            "31\n",
            "/content/drive/My Drive/void_detector/data_folders/bw_test_imgs/IMG_8332.jpg\n",
            "32\n",
            "/content/drive/My Drive/void_detector/data_folders/bw_test_imgs/IMG_8343.jpg\n",
            "33\n",
            "/content/drive/My Drive/void_detector/data_folders/bw_test_imgs/IMG_8353.jpg\n",
            "34\n",
            "/content/drive/My Drive/void_detector/data_folders/bw_test_imgs/IMG_8365.jpg\n",
            "35\n",
            "/content/drive/My Drive/void_detector/data_folders/bw_test_imgs/IMG_8370.jpg\n",
            "36\n",
            "/content/drive/My Drive/void_detector/data_folders/bw_test_imgs/IMG_8390.jpg\n",
            "37\n",
            "/content/drive/My Drive/void_detector/data_folders/bw_test_imgs/IMG_8410.jpg\n",
            "38\n",
            "/content/drive/My Drive/void_detector/data_folders/bw_test_imgs/IMG_8422.jpg\n",
            "39\n",
            "/content/drive/My Drive/void_detector/data_folders/bw_test_imgs/IMG_8436.jpg\n",
            "40\n",
            "/content/drive/My Drive/void_detector/data_folders/bw_test_imgs/IMG_8437.jpg\n",
            "41\n",
            "/content/drive/My Drive/void_detector/data_folders/bw_test_imgs/IMG_8459.jpg\n",
            "42\n",
            "/content/drive/My Drive/void_detector/data_folders/bw_test_imgs/IMG_8466.jpg\n",
            "43\n",
            "/content/drive/My Drive/void_detector/data_folders/bw_test_imgs/IMG_8468.jpg\n",
            "44\n",
            "/content/drive/My Drive/void_detector/data_folders/bw_test_imgs/IMG_8511.jpg\n",
            "45\n",
            "/content/drive/My Drive/void_detector/data_folders/bw_test_imgs/IMG_8553.jpg\n",
            "46\n",
            "/content/drive/My Drive/void_detector/data_folders/bw_test_imgs/IMG_8612.jpg\n",
            "47\n",
            "/content/drive/My Drive/void_detector/data_folders/bw_test_imgs/IMG_8613.jpg\n",
            "48\n",
            "/content/drive/My Drive/void_detector/data_folders/bw_test_imgs/IMG_8642.jpg\n",
            "49\n",
            "/content/drive/My Drive/void_detector/data_folders/bw_test_imgs/IMG_8659.jpg\n",
            "50\n",
            "/content/drive/My Drive/void_detector/data_folders/bw_test_imgs/IMG_8666.jpg\n",
            "51\n",
            "/content/drive/My Drive/void_detector/data_folders/bw_test_imgs/IMG_8684.jpg\n",
            "52\n",
            "/content/drive/My Drive/void_detector/data_folders/bw_test_imgs/IMG_8710.jpg\n",
            "53\n",
            "/content/drive/My Drive/void_detector/data_folders/bw_test_imgs/IMG_8729.jpg\n",
            "54\n",
            "/content/drive/My Drive/void_detector/data_folders/bw_test_imgs/IMG_8746.jpg\n",
            "55\n",
            "/content/drive/My Drive/void_detector/data_folders/bw_test_imgs/IMG_8788.jpg\n",
            "56\n",
            "/content/drive/My Drive/void_detector/data_folders/bw_test_imgs/IMG_8790.jpg\n",
            "57\n",
            "/content/drive/My Drive/void_detector/data_folders/bw_test_imgs/IMG_8820.jpg\n",
            "58\n",
            "/content/drive/My Drive/void_detector/data_folders/bw_test_imgs/IMG_8822.jpg\n",
            "59\n",
            "/content/drive/My Drive/void_detector/data_folders/bw_test_imgs/IMG_8851.jpg\n",
            "60\n",
            "/content/drive/My Drive/void_detector/data_folders/bw_test_imgs/IMG_8960.jpg\n",
            "61\n",
            "/content/drive/My Drive/void_detector/data_folders/bw_test_imgs/IMG_9089.jpg\n",
            "62\n",
            "/content/drive/My Drive/void_detector/data_folders/bw_test_imgs/IMG_9112.jpg\n",
            "63\n",
            "/content/drive/My Drive/void_detector/data_folders/bw_test_imgs/IMG_9209.jpg\n",
            "64\n",
            "/content/drive/My Drive/void_detector/data_folders/bw_test_imgs/IMG_9214.jpg\n",
            "65\n",
            "/content/drive/My Drive/void_detector/data_folders/bw_test_imgs/IMG_9258.jpg\n",
            "66\n",
            "/content/drive/My Drive/void_detector/data_folders/bw_test_imgs/IMG_9299.jpg\n",
            "67\n",
            "/content/drive/My Drive/void_detector/data_folders/bw_test_imgs/IMG_9371.jpg\n",
            "68\n",
            "/content/drive/My Drive/void_detector/data_folders/bw_test_imgs/IMG_9386.jpg\n",
            "69\n",
            "/content/drive/My Drive/void_detector/data_folders/bw_test_imgs/IMG_9394.jpg\n",
            "70\n",
            "/content/drive/My Drive/void_detector/data_folders/bw_test_imgs/IMG_9403.jpg\n",
            "71\n",
            "/content/drive/My Drive/void_detector/data_folders/bw_test_imgs/IMG_9457.jpg\n",
            "72\n",
            "/content/drive/My Drive/void_detector/data_folders/bw_test_imgs/IMG_9510.jpg\n",
            "73\n",
            "/content/drive/My Drive/void_detector/data_folders/bw_test_imgs/IMG_9606.jpg\n",
            "74\n",
            "/content/drive/My Drive/void_detector/data_folders/bw_test_imgs/IMG_7813.jpg\n",
            "75\n",
            "/content/drive/My Drive/void_detector/data_folders/bw_test_imgs/IMG_9038.jpg\n",
            "76\n",
            "/content/drive/My Drive/void_detector/data_folders/bw_test_imgs/IMG_9051.jpg\n"
          ],
          "name": "stdout"
        }
      ]
    },
    {
      "cell_type": "code",
      "metadata": {
        "id": "yaupp0K_xEmg",
        "colab_type": "code",
        "colab": {}
      },
      "source": [
        ""
      ],
      "execution_count": 0,
      "outputs": []
    }
  ]
}